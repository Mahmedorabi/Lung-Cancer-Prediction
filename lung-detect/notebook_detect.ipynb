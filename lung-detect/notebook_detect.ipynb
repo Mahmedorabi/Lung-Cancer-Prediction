{
 "cells": [
  {
   "cell_type": "markdown",
   "id": "e6987205",
   "metadata": {},
   "source": [
    "# Lung detection using VGG16"
   ]
  },
  {
   "cell_type": "markdown",
   "id": "f0de7fd7",
   "metadata": {},
   "source": [
    "### Import Libs"
   ]
  },
  {
   "cell_type": "code",
   "execution_count": 1,
   "id": "e6598ed3",
   "metadata": {},
   "outputs": [],
   "source": [
    "import tensorflow as tf\n",
    "from tensorflow.keras.applications import VGG16, VGG19\n",
    "from tensorflow.keras.models import Model\n",
    "from tensorflow.keras.layers import Dense, Flatten\n",
    "from tensorflow.keras.preprocessing.image import ImageDataGenerator\n",
    "import os"
   ]
  },
  {
   "cell_type": "markdown",
   "id": "d6839ae4",
   "metadata": {},
   "source": [
    "### Create VGG16 deep learning model "
   ]
  },
  {
   "cell_type": "code",
   "execution_count": null,
   "id": "3634c266",
   "metadata": {},
   "outputs": [],
   "source": [
    "# 1. Create VGG16 transfer learning model for binary classification\n",
    "def create_vgg16_binary_model():\n",
    "    base_model = VGG16(weights='imagenet', include_top=False, input_shape=(224, 224, 3))\n",
    "    x = base_model.output\n",
    "    x = Flatten()(x)\n",
    "    x = Dense(256, activation='relu')(x) \n",
    "    predictions = Dense(1, activation='sigmoid')(x) # Binary class ---> sigmoid or multi class ---> softmax\n",
    "    \n",
    "    model = Model(inputs=base_model.input, outputs=predictions)\n",
    "    \n",
    "    for layer in base_model.layers:\n",
    "        layer.trainable = False # Frezzing for a model\n",
    "    \n",
    "    model.compile(optimizer='adam', loss='binary_crossentropy', metrics=['accuracy'])\n",
    "    return model"
   ]
  },
  {
   "cell_type": "code",
   "execution_count": null,
   "id": "09002f9b",
   "metadata": {},
   "outputs": [],
   "source": [
    "# 2. Create training data generator with augmentation\n",
    "def create_train_generator(data_dir, batch_size=32):\n",
    "    train_datagen = ImageDataGenerator(\n",
    "        rotation_range=20,\n",
    "        width_shift_range=0.2,\n",
    "        height_shift_range=0.2,\n",
    "        shear_range=0.15,\n",
    "        zoom_range=0.2,\n",
    "        horizontal_flip=True,\n",
    "        fill_mode='nearest',\n",
    "        preprocessing_function=tf.keras.applications.vgg16.preprocess_input\n",
    "    )\n",
    "    \n",
    "    train_generator = train_datagen.flow_from_directory(\n",
    "        data_dir,\n",
    "        target_size=(224, 224),\n",
    "        batch_size=batch_size,\n",
    "        class_mode='binary'\n",
    "    )\n",
    "    return train_generator"
   ]
  },
  {
   "cell_type": "code",
   "execution_count": null,
   "id": "7c0f6f8a",
   "metadata": {},
   "outputs": [],
   "source": [
    "# 3. Create test data generator (no augmentation, same data for evaluation)\n",
    "def create_test_generator(data_dir, batch_size=32):\n",
    "    test_datagen = ImageDataGenerator(\n",
    "        preprocessing_function=tf.keras.applications.vgg16.preprocess_input\n",
    "    )\n",
    "    \n",
    "    test_generator = test_datagen.flow_from_directory(\n",
    "        data_dir,\n",
    "        target_size=(224, 224),\n",
    "        batch_size=batch_size,\n",
    "        class_mode='binary',\n",
    "        shuffle=False\n",
    "    )\n",
    "    return test_generator"
   ]
  },
  {
   "cell_type": "code",
   "execution_count": null,
   "id": "26b7258d",
   "metadata": {},
   "outputs": [
    {
     "name": "stdout",
     "output_type": "stream",
     "text": [
      "Found 2409 images belonging to 2 classes.\n"
     ]
    },
    {
     "name": "stdout",
     "output_type": "stream",
     "text": [
      "Found 2409 images belonging to 2 classes.\n",
      "Epoch 1/5\n",
      "\u001b[1m76/76\u001b[0m \u001b[32m━━━━━━━━━━━━━━━━━━━━\u001b[0m\u001b[37m\u001b[0m \u001b[1m214s\u001b[0m 3s/step - accuracy: 0.7959 - loss: 5.5042 - val_accuracy: 0.9697 - val_loss: 0.1264\n",
      "Epoch 2/5\n",
      "\u001b[1m76/76\u001b[0m \u001b[32m━━━━━━━━━━━━━━━━━━━━\u001b[0m\u001b[37m\u001b[0m \u001b[1m224s\u001b[0m 3s/step - accuracy: 0.9390 - loss: 0.3279 - val_accuracy: 0.9680 - val_loss: 0.1254\n",
      "Epoch 3/5\n",
      "\u001b[1m76/76\u001b[0m \u001b[32m━━━━━━━━━━━━━━━━━━━━\u001b[0m\u001b[37m\u001b[0m \u001b[1m232s\u001b[0m 3s/step - accuracy: 0.9566 - loss: 0.1767 - val_accuracy: 0.9788 - val_loss: 0.0678\n",
      "Epoch 4/5\n",
      "\u001b[1m76/76\u001b[0m \u001b[32m━━━━━━━━━━━━━━━━━━━━\u001b[0m\u001b[37m\u001b[0m \u001b[1m220s\u001b[0m 3s/step - accuracy: 0.9628 - loss: 0.1466 - val_accuracy: 0.9792 - val_loss: 0.0671\n",
      "Epoch 5/5\n",
      "\u001b[1m76/76\u001b[0m \u001b[32m━━━━━━━━━━━━━━━━━━━━\u001b[0m\u001b[37m\u001b[0m \u001b[1m243s\u001b[0m 3s/step - accuracy: 0.9646 - loss: 0.1325 - val_accuracy: 0.9759 - val_loss: 0.0838\n",
      "\u001b[1m76/76\u001b[0m \u001b[32m━━━━━━━━━━━━━━━━━━━━\u001b[0m\u001b[37m\u001b[0m \u001b[1m130s\u001b[0m 2s/step - accuracy: 0.9921 - loss: 0.0293\n",
      "Test Loss: 0.0838, Test Accuracy: 0.9759\n"
     ]
    }
   ],
   "source": [
    "# 4. Main function to run the pipeline\n",
    "def main():\n",
    "    # Define path to your data\n",
    "    data_dir = 'Augmented IQ-OTHNCCD lung cancer dataset'  # Directory containing Malignant/ and Normal/ folders\n",
    "    \n",
    "    # Verify data exists\n",
    "    if not os.path.exists(os.path.join(data_dir, 'Malignant cases')) or not os.path.exists(os.path.join(data_dir, 'Normal cases')):\n",
    "        raise FileNotFoundError(\"Malignant/ or Normal/ folder not found in the specified data_dir\")\n",
    "    \n",
    "    # Create generators\n",
    "    train_generator = create_train_generator(data_dir, batch_size=32)\n",
    "    test_generator = create_test_generator(data_dir, batch_size=32)\n",
    "    \n",
    "    # Create and train model\n",
    "    model = create_vgg16_binary_model()\n",
    "    model.fit(\n",
    "        train_generator,\n",
    "        epochs=5,\n",
    "        validation_data=test_generator\n",
    "    )\n",
    "    \n",
    "    # Evaluate model\n",
    "    loss, accuracy = model.evaluate(test_generator)\n",
    "    print(f\"Test Loss: {loss:.4f}, Test Accuracy: {accuracy:.4f}\")\n",
    "    \n",
    "    return model\n",
    "\n",
    "# Uncomment to run\n",
    "if __name__ == \"__main__\":\n",
    "    model = main()"
   ]
  },
  {
   "cell_type": "markdown",
   "id": "557f002e",
   "metadata": {},
   "source": [
    "## VGG 19"
   ]
  },
  {
   "cell_type": "code",
   "execution_count": 3,
   "id": "810aa42f",
   "metadata": {},
   "outputs": [],
   "source": [
    "# 1. Create VGG16 transfer learning model for binary classification\n",
    "def create_vgg19_binary_model():\n",
    "    base_model = VGG19(weights='imagenet', include_top=False, input_shape=(224, 224, 3))\n",
    "    x = base_model.output\n",
    "    x = Flatten()(x)\n",
    "    x = Dense(256, activation='relu')(x) \n",
    "    predictions = Dense(1, activation='sigmoid')(x) # Binary class ---> sigmoid or multi class ---> softmax\n",
    "    \n",
    "    model = Model(inputs=base_model.input, outputs=predictions)\n",
    "    \n",
    "    for layer in base_model.layers:\n",
    "        layer.trainable = False # Frezzing for a model\n",
    "    \n",
    "    model.compile(optimizer='adam', loss='binary_crossentropy', metrics=['accuracy'])\n",
    "    return model"
   ]
  },
  {
   "cell_type": "code",
   "execution_count": 4,
   "id": "676fdf1f",
   "metadata": {},
   "outputs": [],
   "source": [
    "# 2. Create training data generator with augmentation\n",
    "def create_train_generator(data_dir, batch_size=32):\n",
    "    train_datagen = ImageDataGenerator(\n",
    "        rotation_range=20,\n",
    "        width_shift_range=0.2,\n",
    "        height_shift_range=0.2,\n",
    "        shear_range=0.15,\n",
    "        zoom_range=0.2,\n",
    "        horizontal_flip=True,\n",
    "        fill_mode='nearest',\n",
    "        preprocessing_function=tf.keras.applications.vgg16.preprocess_input\n",
    "    )\n",
    "    \n",
    "    train_generator = train_datagen.flow_from_directory(\n",
    "        data_dir,\n",
    "        target_size=(224, 224),\n",
    "        batch_size=batch_size,\n",
    "        class_mode='binary'\n",
    "    )\n",
    "    return train_generator"
   ]
  },
  {
   "cell_type": "code",
   "execution_count": 5,
   "id": "2b31b626",
   "metadata": {},
   "outputs": [],
   "source": [
    "# 3. Create test data generator (no augmentation, same data for evaluation)\n",
    "def create_test_generator(data_dir, batch_size=32):\n",
    "    test_datagen = ImageDataGenerator(\n",
    "        preprocessing_function=tf.keras.applications.vgg16.preprocess_input\n",
    "    )\n",
    "    \n",
    "    test_generator = test_datagen.flow_from_directory(\n",
    "        data_dir,\n",
    "        target_size=(224, 224),\n",
    "        batch_size=batch_size,\n",
    "        class_mode='binary',\n",
    "        shuffle=False\n",
    "    )\n",
    "    return test_generator"
   ]
  },
  {
   "cell_type": "code",
   "execution_count": null,
   "id": "9d7cd257",
   "metadata": {},
   "outputs": [
    {
     "name": "stdout",
     "output_type": "stream",
     "text": [
      "Found 977 images belonging to 2 classes.\n"
     ]
    },
    {
     "name": "stdout",
     "output_type": "stream",
     "text": [
      "Found 977 images belonging to 2 classes.\n",
      "Downloading data from https://storage.googleapis.com/tensorflow/keras-applications/vgg19/vgg19_weights_tf_dim_ordering_tf_kernels_notop.h5\n",
      "\u001b[1m80134624/80134624\u001b[0m \u001b[32m━━━━━━━━━━━━━━━━━━━━\u001b[0m\u001b[37m\u001b[0m \u001b[1m47s\u001b[0m 1us/step\n",
      "Epoch 1/5\n"
     ]
    },
    {
     "name": "stderr",
     "output_type": "stream",
     "text": [
      "c:\\Users\\StarNet\\AppData\\Local\\Programs\\Python\\Python312\\Lib\\site-packages\\keras\\src\\trainers\\data_adapters\\py_dataset_adapter.py:122: UserWarning: Your `PyDataset` class should call `super().__init__(**kwargs)` in its constructor. `**kwargs` can include `workers`, `use_multiprocessing`, `max_queue_size`. Do not pass these arguments to `fit()`, as they will be ignored.\n",
      "  self._warn_if_super_not_called()\n"
     ]
    },
    {
     "name": "stdout",
     "output_type": "stream",
     "text": [
      "\u001b[1m31/31\u001b[0m \u001b[32m━━━━━━━━━━━━━━━━━━━━\u001b[0m\u001b[37m\u001b[0m \u001b[1m113s\u001b[0m 4s/step - accuracy: 0.8038 - loss: 6.0691 - val_accuracy: 0.9806 - val_loss: 0.4536\n",
      "Epoch 2/5\n",
      "\u001b[1m31/31\u001b[0m \u001b[32m━━━━━━━━━━━━━━━━━━━━\u001b[0m\u001b[37m\u001b[0m \u001b[1m114s\u001b[0m 4s/step - accuracy: 0.9518 - loss: 1.3042 - val_accuracy: 0.9754 - val_loss: 0.4528\n",
      "Epoch 3/5\n",
      "\u001b[1m31/31\u001b[0m \u001b[32m━━━━━━━━━━━━━━━━━━━━\u001b[0m\u001b[37m\u001b[0m \u001b[1m117s\u001b[0m 4s/step - accuracy: 0.9663 - loss: 0.5984 - val_accuracy: 0.9826 - val_loss: 0.3180\n",
      "Epoch 4/5\n",
      "\u001b[1m31/31\u001b[0m \u001b[32m━━━━━━━━━━━━━━━━━━━━\u001b[0m\u001b[37m\u001b[0m \u001b[1m118s\u001b[0m 4s/step - accuracy: 0.9723 - loss: 0.5527 - val_accuracy: 0.9846 - val_loss: 0.3118\n",
      "Epoch 5/5\n",
      "\u001b[1m31/31\u001b[0m \u001b[32m━━━━━━━━━━━━━━━━━━━━\u001b[0m\u001b[37m\u001b[0m \u001b[1m118s\u001b[0m 4s/step - accuracy: 0.9783 - loss: 0.3464 - val_accuracy: 0.9898 - val_loss: 0.1193\n",
      "\u001b[1m31/31\u001b[0m \u001b[32m━━━━━━━━━━━━━━━━━━━━\u001b[0m\u001b[37m\u001b[0m \u001b[1m58s\u001b[0m 2s/step - accuracy: 0.9888 - loss: 0.1292\n",
      "Test Loss: 0.1193, Test Accuracy: 0.9898\n"
     ]
    },
    {
     "ename": "",
     "evalue": "",
     "output_type": "error",
     "traceback": [
      "\u001b[1;31mThe Kernel crashed while executing code in the current cell or a previous cell. \n",
      "\u001b[1;31mPlease review the code in the cell(s) to identify a possible cause of the failure. \n",
      "\u001b[1;31mClick <a href='https://aka.ms/vscodeJupyterKernelCrash'>here</a> for more info. \n",
      "\u001b[1;31mView Jupyter <a href='command:jupyter.viewOutput'>log</a> for further details."
     ]
    }
   ],
   "source": [
    "# 4. Main function to run the pipeline\n",
    "def main():\n",
    "    # Define path to your data\n",
    "    data_dir = 'The IQ-OTHNCCD lung cancer dataset'  # Directory containing Malignant/ and Normal/ folders\n",
    "    \n",
    "    # Verify data exists\n",
    "    if not os.path.exists(os.path.join(data_dir, 'Malignant cases')) or not os.path.exists(os.path.join(data_dir, 'Normal cases')):\n",
    "        raise FileNotFoundError(\"Malignant/ or Normal/ folder not found in the specified data_dir\")\n",
    "    \n",
    "    # Create generators\n",
    "    train_generator = create_train_generator(data_dir, batch_size=32)\n",
    "    test_generator = create_test_generator(data_dir, batch_size=32)\n",
    "    \n",
    "    # Create and train model\n",
    "    model = create_vgg19_binary_model()\n",
    "    model.fit(\n",
    "        train_generator,\n",
    "        epochs=5,\n",
    "        validation_data=test_generator\n",
    "    )\n",
    "    \n",
    "    # Evaluate model\n",
    "    loss, accuracy = model.evaluate(test_generator)\n",
    "    print(f\"Test Loss: {loss:.4f}, Test Accuracy: {accuracy:.4f}\")\n",
    "    \n",
    "    return model\n",
    "\n",
    "# Uncomment to run\n",
    "if __name__ == \"__main__\":\n",
    "    model = main()"
   ]
  },
  {
   "cell_type": "code",
   "execution_count": null,
   "id": "3ad26ce3",
   "metadata": {},
   "outputs": [],
   "source": []
  }
 ],
 "metadata": {
  "kernelspec": {
   "display_name": "Python 3",
   "language": "python",
   "name": "python3"
  },
  "language_info": {
   "codemirror_mode": {
    "name": "ipython",
    "version": 3
   },
   "file_extension": ".py",
   "mimetype": "text/x-python",
   "name": "python",
   "nbconvert_exporter": "python",
   "pygments_lexer": "ipython3",
   "version": "3.12.4"
  }
 },
 "nbformat": 4,
 "nbformat_minor": 5
}
